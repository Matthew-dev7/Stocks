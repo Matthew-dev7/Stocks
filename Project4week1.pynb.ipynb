{
  "nbformat": 4,
  "nbformat_minor": 0,
  "metadata": {
    "colab": {
      "name": "Bonks.ipynb",
      "provenance": []
    },
    "kernelspec": {
      "name": "python3",
      "display_name": "Python 3"
    },
    "language_info": {
      "name": "python"
    }
  },
  "cells": [
    {
      "cell_type": "code",
      "metadata": {
        "colab": {
          "base_uri": "https://localhost:8080/"
        },
        "id": "2uJrS5q9iVil",
        "outputId": "ed2a4a80-3bf8-422d-ff15-bd65734e766d"
      },
      "source": [
        "!pip install datapackage\n",
        "!pip install pandas\n",
        "!pip install numpy\n",
        "!pip install yahoo-finance\n",
        "!pip install matplotlib"
      ],
      "execution_count": 1,
      "outputs": [
        {
          "output_type": "stream",
          "name": "stdout",
          "text": [
            "Collecting datapackage\n",
            "  Downloading datapackage-1.15.2-py2.py3-none-any.whl (85 kB)\n",
            "\u001b[K     |████████████████████████████████| 85 kB 1.6 MB/s \n",
            "\u001b[?25hCollecting tabulator>=1.29\n",
            "  Downloading tabulator-1.53.5-py2.py3-none-any.whl (72 kB)\n",
            "\u001b[K     |████████████████████████████████| 72 kB 514 kB/s \n",
            "\u001b[?25hRequirement already satisfied: six>=1.10 in /usr/local/lib/python3.7/dist-packages (from datapackage) (1.15.0)\n",
            "Requirement already satisfied: chardet>=3.0 in /usr/local/lib/python3.7/dist-packages (from datapackage) (3.0.4)\n",
            "Collecting jsonpointer>=1.10\n",
            "  Downloading jsonpointer-2.2-py2.py3-none-any.whl (7.5 kB)\n",
            "Requirement already satisfied: click>=6.7 in /usr/local/lib/python3.7/dist-packages (from datapackage) (7.1.2)\n",
            "Collecting tableschema>=1.12.1\n",
            "  Downloading tableschema-1.20.2-py2.py3-none-any.whl (68 kB)\n",
            "\u001b[K     |████████████████████████████████| 68 kB 6.4 MB/s \n",
            "\u001b[?25hRequirement already satisfied: requests>=2.8 in /usr/local/lib/python3.7/dist-packages (from datapackage) (2.23.0)\n",
            "Collecting unicodecsv>=0.14\n",
            "  Downloading unicodecsv-0.14.1.tar.gz (10 kB)\n",
            "Requirement already satisfied: jsonschema>=2.5 in /usr/local/lib/python3.7/dist-packages (from datapackage) (2.6.0)\n",
            "Requirement already satisfied: urllib3!=1.25.0,!=1.25.1,<1.26,>=1.21.1 in /usr/local/lib/python3.7/dist-packages (from requests>=2.8->datapackage) (1.24.3)\n",
            "Requirement already satisfied: idna<3,>=2.5 in /usr/local/lib/python3.7/dist-packages (from requests>=2.8->datapackage) (2.10)\n",
            "Requirement already satisfied: certifi>=2017.4.17 in /usr/local/lib/python3.7/dist-packages (from requests>=2.8->datapackage) (2021.10.8)\n",
            "Requirement already satisfied: python-dateutil>=2.4 in /usr/local/lib/python3.7/dist-packages (from tableschema>=1.12.1->datapackage) (2.8.2)\n",
            "Collecting isodate>=0.5.4\n",
            "  Downloading isodate-0.6.0-py2.py3-none-any.whl (45 kB)\n",
            "\u001b[K     |████████████████████████████████| 45 kB 3.3 MB/s \n",
            "\u001b[?25hCollecting rfc3986>=1.1.0\n",
            "  Downloading rfc3986-1.5.0-py2.py3-none-any.whl (31 kB)\n",
            "Requirement already satisfied: cached-property>=1.5 in /usr/local/lib/python3.7/dist-packages (from tableschema>=1.12.1->datapackage) (1.5.2)\n",
            "Collecting ijson>=3.0.3\n",
            "  Downloading ijson-3.1.4-cp37-cp37m-manylinux2010_x86_64.whl (126 kB)\n",
            "\u001b[K     |████████████████████████████████| 126 kB 47.4 MB/s \n",
            "\u001b[?25hRequirement already satisfied: xlrd>=1.0 in /usr/local/lib/python3.7/dist-packages (from tabulator>=1.29->datapackage) (1.1.0)\n",
            "Requirement already satisfied: sqlalchemy>=0.9.6 in /usr/local/lib/python3.7/dist-packages (from tabulator>=1.29->datapackage) (1.4.27)\n",
            "Collecting boto3>=1.9\n",
            "  Downloading boto3-1.20.14-py3-none-any.whl (131 kB)\n",
            "\u001b[K     |████████████████████████████████| 131 kB 52.2 MB/s \n",
            "\u001b[?25hCollecting linear-tsv>=1.0\n",
            "  Downloading linear-tsv-1.1.0.tar.gz (9.6 kB)\n",
            "Collecting jsonlines>=1.1\n",
            "  Downloading jsonlines-2.0.0-py3-none-any.whl (6.3 kB)\n",
            "Collecting openpyxl>=2.6\n",
            "  Downloading openpyxl-3.0.9-py2.py3-none-any.whl (242 kB)\n",
            "\u001b[K     |████████████████████████████████| 242 kB 45.0 MB/s \n",
            "\u001b[?25hCollecting botocore<1.24.0,>=1.23.14\n",
            "  Downloading botocore-1.23.14-py3-none-any.whl (8.2 MB)\n",
            "\u001b[K     |████████████████████████████████| 8.2 MB 45.6 MB/s \n",
            "\u001b[?25hCollecting jmespath<1.0.0,>=0.7.1\n",
            "  Downloading jmespath-0.10.0-py2.py3-none-any.whl (24 kB)\n",
            "Collecting s3transfer<0.6.0,>=0.5.0\n",
            "  Downloading s3transfer-0.5.0-py3-none-any.whl (79 kB)\n",
            "\u001b[K     |████████████████████████████████| 79 kB 7.9 MB/s \n",
            "\u001b[?25hCollecting urllib3!=1.25.0,!=1.25.1,<1.26,>=1.21.1\n",
            "  Downloading urllib3-1.25.11-py2.py3-none-any.whl (127 kB)\n",
            "\u001b[K     |████████████████████████████████| 127 kB 55.5 MB/s \n",
            "\u001b[?25hRequirement already satisfied: et-xmlfile in /usr/local/lib/python3.7/dist-packages (from openpyxl>=2.6->tabulator>=1.29->datapackage) (1.1.0)\n",
            "Requirement already satisfied: greenlet!=0.4.17 in /usr/local/lib/python3.7/dist-packages (from sqlalchemy>=0.9.6->tabulator>=1.29->datapackage) (1.1.2)\n",
            "Requirement already satisfied: importlib-metadata in /usr/local/lib/python3.7/dist-packages (from sqlalchemy>=0.9.6->tabulator>=1.29->datapackage) (4.8.2)\n",
            "Requirement already satisfied: zipp>=0.5 in /usr/local/lib/python3.7/dist-packages (from importlib-metadata->sqlalchemy>=0.9.6->tabulator>=1.29->datapackage) (3.6.0)\n",
            "Requirement already satisfied: typing-extensions>=3.6.4 in /usr/local/lib/python3.7/dist-packages (from importlib-metadata->sqlalchemy>=0.9.6->tabulator>=1.29->datapackage) (3.10.0.2)\n",
            "Building wheels for collected packages: linear-tsv, unicodecsv\n",
            "  Building wheel for linear-tsv (setup.py) ... \u001b[?25l\u001b[?25hdone\n",
            "  Created wheel for linear-tsv: filename=linear_tsv-1.1.0-py3-none-any.whl size=7399 sha256=a5e2620b371ae2297f84ea33b9f30aac3848c663754e9ace30c5d2b95dc0d49e\n",
            "  Stored in directory: /root/.cache/pip/wheels/dd/0a/62/49ee84fab92057fb3e303fb1a59e75ccac6899b417f441305a\n",
            "  Building wheel for unicodecsv (setup.py) ... \u001b[?25l\u001b[?25hdone\n",
            "  Created wheel for unicodecsv: filename=unicodecsv-0.14.1-py3-none-any.whl size=10765 sha256=6361db4f15c89dc5b336e999c6850023ed1e87f8d6f43dd0d392d22253de3165\n",
            "  Stored in directory: /root/.cache/pip/wheels/1a/f4/8a/a5024fb77b32ed369e5c409081e5f00fbe3b92fdad653f6e69\n",
            "Successfully built linear-tsv unicodecsv\n",
            "Installing collected packages: urllib3, jmespath, botocore, s3transfer, unicodecsv, openpyxl, linear-tsv, jsonlines, ijson, boto3, tabulator, rfc3986, isodate, tableschema, jsonpointer, datapackage\n",
            "  Attempting uninstall: urllib3\n",
            "    Found existing installation: urllib3 1.24.3\n",
            "    Uninstalling urllib3-1.24.3:\n",
            "      Successfully uninstalled urllib3-1.24.3\n",
            "  Attempting uninstall: openpyxl\n",
            "    Found existing installation: openpyxl 2.5.9\n",
            "    Uninstalling openpyxl-2.5.9:\n",
            "      Successfully uninstalled openpyxl-2.5.9\n",
            "\u001b[31mERROR: pip's dependency resolver does not currently take into account all the packages that are installed. This behaviour is the source of the following dependency conflicts.\n",
            "datascience 0.10.6 requires folium==0.2.1, but you have folium 0.8.3 which is incompatible.\u001b[0m\n",
            "Successfully installed boto3-1.20.14 botocore-1.23.14 datapackage-1.15.2 ijson-3.1.4 isodate-0.6.0 jmespath-0.10.0 jsonlines-2.0.0 jsonpointer-2.2 linear-tsv-1.1.0 openpyxl-3.0.9 rfc3986-1.5.0 s3transfer-0.5.0 tableschema-1.20.2 tabulator-1.53.5 unicodecsv-0.14.1 urllib3-1.25.11\n",
            "Requirement already satisfied: pandas in /usr/local/lib/python3.7/dist-packages (1.1.5)\n",
            "Requirement already satisfied: pytz>=2017.2 in /usr/local/lib/python3.7/dist-packages (from pandas) (2018.9)\n",
            "Requirement already satisfied: python-dateutil>=2.7.3 in /usr/local/lib/python3.7/dist-packages (from pandas) (2.8.2)\n",
            "Requirement already satisfied: numpy>=1.15.4 in /usr/local/lib/python3.7/dist-packages (from pandas) (1.19.5)\n",
            "Requirement already satisfied: six>=1.5 in /usr/local/lib/python3.7/dist-packages (from python-dateutil>=2.7.3->pandas) (1.15.0)\n",
            "Requirement already satisfied: numpy in /usr/local/lib/python3.7/dist-packages (1.19.5)\n",
            "Collecting yahoo-finance\n",
            "  Downloading yahoo-finance-1.4.0.tar.gz (8.9 kB)\n",
            "Requirement already satisfied: pytz in /usr/local/lib/python3.7/dist-packages (from yahoo-finance) (2018.9)\n",
            "Collecting simplejson\n",
            "  Downloading simplejson-3.17.6-cp37-cp37m-manylinux_2_5_x86_64.manylinux1_x86_64.manylinux_2_12_x86_64.manylinux2010_x86_64.whl (130 kB)\n",
            "\u001b[K     |████████████████████████████████| 130 kB 8.5 MB/s \n",
            "\u001b[?25hBuilding wheels for collected packages: yahoo-finance\n",
            "  Building wheel for yahoo-finance (setup.py) ... \u001b[?25l\u001b[?25hdone\n",
            "  Created wheel for yahoo-finance: filename=yahoo_finance-1.4.0-py3-none-any.whl size=7231 sha256=1748086cd24f425af767982da3d306419db1320bbc1db351eedcf3425ba6d75a\n",
            "  Stored in directory: /root/.cache/pip/wheels/74/3c/6e/504622cec9991612b9e3945fe8b375fef727854b42eb333c91\n",
            "Successfully built yahoo-finance\n",
            "Installing collected packages: simplejson, yahoo-finance\n",
            "Successfully installed simplejson-3.17.6 yahoo-finance-1.4.0\n",
            "Requirement already satisfied: matplotlib in /usr/local/lib/python3.7/dist-packages (3.2.2)\n",
            "Requirement already satisfied: cycler>=0.10 in /usr/local/lib/python3.7/dist-packages (from matplotlib) (0.11.0)\n",
            "Requirement already satisfied: pyparsing!=2.0.4,!=2.1.2,!=2.1.6,>=2.0.1 in /usr/local/lib/python3.7/dist-packages (from matplotlib) (3.0.6)\n",
            "Requirement already satisfied: kiwisolver>=1.0.1 in /usr/local/lib/python3.7/dist-packages (from matplotlib) (1.3.2)\n",
            "Requirement already satisfied: numpy>=1.11 in /usr/local/lib/python3.7/dist-packages (from matplotlib) (1.19.5)\n",
            "Requirement already satisfied: python-dateutil>=2.1 in /usr/local/lib/python3.7/dist-packages (from matplotlib) (2.8.2)\n",
            "Requirement already satisfied: six>=1.5 in /usr/local/lib/python3.7/dist-packages (from python-dateutil>=2.1->matplotlib) (1.15.0)\n"
          ]
        }
      ]
    },
    {
      "cell_type": "code",
      "metadata": {
        "colab": {
          "base_uri": "https://localhost:8080/"
        },
        "id": "5L5bhcmQiYVG",
        "outputId": "7c9a85ae-27a1-40db-ac31-49fb8c37623b"
      },
      "source": [
        "!pip install yfinance\n",
        "import pandas as pd\n",
        "import datetime\n",
        "import numpy as np\n",
        "import matplotlib.pyplot as plt\n",
        "from pandas.plotting import scatter_matrix\n",
        "import yfinance as yf"
      ],
      "execution_count": 3,
      "outputs": [
        {
          "output_type": "stream",
          "name": "stdout",
          "text": [
            "Collecting yfinance\n",
            "  Downloading yfinance-0.1.67-py2.py3-none-any.whl (25 kB)\n",
            "Requirement already satisfied: requests>=2.20 in /usr/local/lib/python3.7/dist-packages (from yfinance) (2.23.0)\n",
            "Requirement already satisfied: numpy>=1.15 in /usr/local/lib/python3.7/dist-packages (from yfinance) (1.19.5)\n",
            "Requirement already satisfied: multitasking>=0.0.7 in /usr/local/lib/python3.7/dist-packages (from yfinance) (0.0.10)\n",
            "Collecting lxml>=4.5.1\n",
            "  Downloading lxml-4.6.4-cp37-cp37m-manylinux_2_17_x86_64.manylinux2014_x86_64.manylinux_2_24_x86_64.whl (6.3 MB)\n",
            "\u001b[K     |████████████████████████████████| 6.3 MB 10.5 MB/s \n",
            "\u001b[?25hRequirement already satisfied: pandas>=0.24 in /usr/local/lib/python3.7/dist-packages (from yfinance) (1.1.5)\n",
            "Requirement already satisfied: pytz>=2017.2 in /usr/local/lib/python3.7/dist-packages (from pandas>=0.24->yfinance) (2018.9)\n",
            "Requirement already satisfied: python-dateutil>=2.7.3 in /usr/local/lib/python3.7/dist-packages (from pandas>=0.24->yfinance) (2.8.2)\n",
            "Requirement already satisfied: six>=1.5 in /usr/local/lib/python3.7/dist-packages (from python-dateutil>=2.7.3->pandas>=0.24->yfinance) (1.15.0)\n",
            "Requirement already satisfied: certifi>=2017.4.17 in /usr/local/lib/python3.7/dist-packages (from requests>=2.20->yfinance) (2021.10.8)\n",
            "Requirement already satisfied: chardet<4,>=3.0.2 in /usr/local/lib/python3.7/dist-packages (from requests>=2.20->yfinance) (3.0.4)\n",
            "Requirement already satisfied: idna<3,>=2.5 in /usr/local/lib/python3.7/dist-packages (from requests>=2.20->yfinance) (2.10)\n",
            "Requirement already satisfied: urllib3!=1.25.0,!=1.25.1,<1.26,>=1.21.1 in /usr/local/lib/python3.7/dist-packages (from requests>=2.20->yfinance) (1.25.11)\n",
            "Installing collected packages: lxml, yfinance\n",
            "  Attempting uninstall: lxml\n",
            "    Found existing installation: lxml 4.2.6\n",
            "    Uninstalling lxml-4.2.6:\n",
            "      Successfully uninstalled lxml-4.2.6\n",
            "Successfully installed lxml-4.6.4 yfinance-0.1.67\n"
          ]
        }
      ]
    },
    {
      "cell_type": "code",
      "metadata": {
        "colab": {
          "base_uri": "https://localhost:8080/"
        },
        "id": "cxmEp39-iaE1",
        "outputId": "61a02c8f-76bd-4c93-bb3d-fc032f71ffd7"
      },
      "source": [
        "startDate = '2021-06-01'\n",
        "endDate = '2021-11-19'\n",
        "\n",
        "Tesla = yf.download('TSLA',startDate,endDate)\n",
        "Apple = yf.download('AAPL',startDate,endDate)\n",
        "Microsoft = yf.download('MSFT',startDate,endDate)\n",
        "Google = yf.download('GOOG',startDate,endDate)\n",
        "Amazon = yf.download('AMZN',startDate,endDate)\n",
        "Meta = yf.download('FB',startDate,endDate)\n",
        "Nvidia = yf.download('NVDA',startDate,endDate)\n",
        "Tencent = yf.download('TCEHY',startDate,endDate)\n",
        "Visa = yf.download('V',startDate,endDate)\n",
        "HomeDepot = yf.download('HD',startDate,endDate)"
      ],
      "execution_count": 4,
      "outputs": [
        {
          "output_type": "stream",
          "name": "stdout",
          "text": [
            "[*********************100%***********************]  1 of 1 completed\n",
            "[*********************100%***********************]  1 of 1 completed\n",
            "[*********************100%***********************]  1 of 1 completed\n",
            "[*********************100%***********************]  1 of 1 completed\n",
            "[*********************100%***********************]  1 of 1 completed\n",
            "[*********************100%***********************]  1 of 1 completed\n",
            "[*********************100%***********************]  1 of 1 completed\n",
            "[*********************100%***********************]  1 of 1 completed\n",
            "[*********************100%***********************]  1 of 1 completed\n",
            "[*********************100%***********************]  1 of 1 completed\n"
          ]
        }
      ]
    },
    {
      "cell_type": "code",
      "metadata": {
        "colab": {
          "base_uri": "https://localhost:8080/"
        },
        "id": "FJAOth4Ticob",
        "outputId": "e165aafc-d23e-4831-b0e3-d8e3044e7b25"
      },
      "source": [
        "TeslaADG = (-1*np.mean(Tesla['Open']-Tesla['Close']),'Tesla')\n",
        "AppleADG = (-1*np.mean(Apple['Open']-Apple['Close']),'Apple')\n",
        "MicrosoftADG = (-1*np.mean(Microsoft['Open']-Microsoft['Close']),'Microsoft')\n",
        "GoogleADG = (-1*np.mean(Google['Open']-Google['Close']),'Google')\n",
        "AmazonADG = (-1*np.mean(Amazon['Open']-Amazon['Close']),'Amazon')\n",
        "MetaADG = (-1*np.mean(Meta['Open']-Meta['Close']),'Meta')\n",
        "NvidiaADG = (-1*np.mean(Nvidia['Open']-Nvidia['Close']),'Nvidia')\n",
        "TencentADG = (-1*np.mean(Tencent['Open']-Tencent['Close']),'Tencent')\n",
        "VisaADG = (-1*np.mean(Visa['Open']-Visa['Close']),'Visa')\n",
        "HomeDepotADG = (-1*np.mean(HomeDepot['Open']-HomeDepot['Close']),'HomeDepot')\n",
        "\n",
        "print('Tesla:', TeslaADG)\n",
        "print('Apple:', AppleADG)\n",
        "print('Microsoft:', MicrosoftADG)\n",
        "print('Google', GoogleADG)\n",
        "print('Amazon:', AmazonADG)\n",
        "print('Meta:', MetaADG)\n",
        "print('Nvidia:', NvidiaADG)\n",
        "print('Tencent:', TencentADG)\n",
        "print('Visa:', VisaADG)\n",
        "print('HomeDepot:', HomeDepotADG)"
      ],
      "execution_count": 5,
      "outputs": [
        {
          "output_type": "stream",
          "name": "stdout",
          "text": [
            "Tesla: (2.3103269466683884, 'Tesla')\n",
            "Apple: (0.27966869764091556, 'Apple')\n",
            "Microsoft: (0.49735594189856663, 'Microsoft')\n",
            "Google (2.84521484375, 'Google')\n",
            "Amazon: (4.50751186402376, 'Amazon')\n",
            "Meta: (0.1496698048489153, 'Meta')\n",
            "Nvidia: (0.4713851045971074, 'Nvidia')\n",
            "Tencent: (0.05148759952261428, 'Tencent')\n",
            "Visa: (-0.42082605283122415, 'Visa')\n",
            "HomeDepot: (0.43603212971332644, 'HomeDepot')\n"
          ]
        }
      ]
    },
    {
      "cell_type": "code",
      "metadata": {
        "colab": {
          "base_uri": "https://localhost:8080/"
        },
        "id": "kFfEtwwVifTI",
        "outputId": "97c72a25-76a5-4b9c-c4cf-2bf674730061"
      },
      "source": [
        "DailyAverageArray = ([TeslaADG,AppleADG,MicrosoftADG,GoogleADG,AmazonADG,MetaADG,NvidiaADG,TencentADG,VisaADG,HomeDepotADG])\n",
        "DailyAverageArray.sort()\n",
        "print(DailyAverageArray)"
      ],
      "execution_count": 6,
      "outputs": [
        {
          "output_type": "stream",
          "name": "stdout",
          "text": [
            "[(-0.42082605283122415, 'Visa'), (0.05148759952261428, 'Tencent'), (0.1496698048489153, 'Meta'), (0.27966869764091556, 'Apple'), (0.43603212971332644, 'HomeDepot'), (0.4713851045971074, 'Nvidia'), (0.49735594189856663, 'Microsoft'), (2.3103269466683884, 'Tesla'), (2.84521484375, 'Google'), (4.50751186402376, 'Amazon')]\n"
          ]
        }
      ]
    }
  ]
}