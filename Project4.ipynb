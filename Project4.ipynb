{
  "nbformat": 4,
  "nbformat_minor": 0,
  "metadata": {
    "colab": {
      "name": "Stonks.ipynb",
      "provenance": []
    },
    "kernelspec": {
      "name": "python3",
      "display_name": "Python 3"
    },
    "language_info": {
      "name": "python"
    }
  },
  "cells": [
    {
      "cell_type": "code",
      "metadata": {
        "colab": {
          "base_uri": "https://localhost:8080/"
        },
        "id": "40qPsr5KJi4q",
        "outputId": "90918715-2424-4992-85f1-c14c2b6faec3"
      },
      "source": [
        "!pip install datapackage\n",
        "!pip install pandas\n",
        "!pip install numpy\n",
        "!pip install yahoo-finance\n",
        "!pip install matplotlib\n",
        "!pip install yfinance"
      ],
      "execution_count": null,
      "outputs": [
        {
          "output_type": "stream",
          "name": "stdout",
          "text": [
            "Requirement already satisfied: datapackage in /usr/local/lib/python3.7/dist-packages (1.15.2)\n",
            "Requirement already satisfied: jsonschema>=2.5 in /usr/local/lib/python3.7/dist-packages (from datapackage) (2.6.0)\n",
            "Requirement already satisfied: click>=6.7 in /usr/local/lib/python3.7/dist-packages (from datapackage) (7.1.2)\n",
            "Requirement already satisfied: tableschema>=1.12.1 in /usr/local/lib/python3.7/dist-packages (from datapackage) (1.20.2)\n",
            "Requirement already satisfied: requests>=2.8 in /usr/local/lib/python3.7/dist-packages (from datapackage) (2.23.0)\n",
            "Requirement already satisfied: tabulator>=1.29 in /usr/local/lib/python3.7/dist-packages (from datapackage) (1.53.5)\n",
            "Requirement already satisfied: jsonpointer>=1.10 in /usr/local/lib/python3.7/dist-packages (from datapackage) (2.2)\n",
            "Requirement already satisfied: unicodecsv>=0.14 in /usr/local/lib/python3.7/dist-packages (from datapackage) (0.14.1)\n",
            "Requirement already satisfied: six>=1.10 in /usr/local/lib/python3.7/dist-packages (from datapackage) (1.15.0)\n",
            "Requirement already satisfied: chardet>=3.0 in /usr/local/lib/python3.7/dist-packages (from datapackage) (3.0.4)\n",
            "Requirement already satisfied: certifi>=2017.4.17 in /usr/local/lib/python3.7/dist-packages (from requests>=2.8->datapackage) (2021.10.8)\n",
            "Requirement already satisfied: idna<3,>=2.5 in /usr/local/lib/python3.7/dist-packages (from requests>=2.8->datapackage) (2.10)\n",
            "Requirement already satisfied: urllib3!=1.25.0,!=1.25.1,<1.26,>=1.21.1 in /usr/local/lib/python3.7/dist-packages (from requests>=2.8->datapackage) (1.25.11)\n",
            "Requirement already satisfied: python-dateutil>=2.4 in /usr/local/lib/python3.7/dist-packages (from tableschema>=1.12.1->datapackage) (2.8.2)\n",
            "Requirement already satisfied: isodate>=0.5.4 in /usr/local/lib/python3.7/dist-packages (from tableschema>=1.12.1->datapackage) (0.6.0)\n",
            "Requirement already satisfied: rfc3986>=1.1.0 in /usr/local/lib/python3.7/dist-packages (from tableschema>=1.12.1->datapackage) (1.5.0)\n",
            "Requirement already satisfied: cached-property>=1.5 in /usr/local/lib/python3.7/dist-packages (from tableschema>=1.12.1->datapackage) (1.5.2)\n",
            "Requirement already satisfied: linear-tsv>=1.0 in /usr/local/lib/python3.7/dist-packages (from tabulator>=1.29->datapackage) (1.1.0)\n",
            "Requirement already satisfied: openpyxl>=2.6 in /usr/local/lib/python3.7/dist-packages (from tabulator>=1.29->datapackage) (3.0.9)\n",
            "Requirement already satisfied: boto3>=1.9 in /usr/local/lib/python3.7/dist-packages (from tabulator>=1.29->datapackage) (1.20.12)\n",
            "Requirement already satisfied: sqlalchemy>=0.9.6 in /usr/local/lib/python3.7/dist-packages (from tabulator>=1.29->datapackage) (1.4.27)\n",
            "Requirement already satisfied: jsonlines>=1.1 in /usr/local/lib/python3.7/dist-packages (from tabulator>=1.29->datapackage) (2.0.0)\n",
            "Requirement already satisfied: ijson>=3.0.3 in /usr/local/lib/python3.7/dist-packages (from tabulator>=1.29->datapackage) (3.1.4)\n",
            "Requirement already satisfied: xlrd>=1.0 in /usr/local/lib/python3.7/dist-packages (from tabulator>=1.29->datapackage) (1.1.0)\n",
            "Requirement already satisfied: jmespath<1.0.0,>=0.7.1 in /usr/local/lib/python3.7/dist-packages (from boto3>=1.9->tabulator>=1.29->datapackage) (0.10.0)\n",
            "Requirement already satisfied: s3transfer<0.6.0,>=0.5.0 in /usr/local/lib/python3.7/dist-packages (from boto3>=1.9->tabulator>=1.29->datapackage) (0.5.0)\n",
            "Requirement already satisfied: botocore<1.24.0,>=1.23.12 in /usr/local/lib/python3.7/dist-packages (from boto3>=1.9->tabulator>=1.29->datapackage) (1.23.12)\n",
            "Requirement already satisfied: et-xmlfile in /usr/local/lib/python3.7/dist-packages (from openpyxl>=2.6->tabulator>=1.29->datapackage) (1.1.0)\n",
            "Requirement already satisfied: importlib-metadata in /usr/local/lib/python3.7/dist-packages (from sqlalchemy>=0.9.6->tabulator>=1.29->datapackage) (4.8.2)\n",
            "Requirement already satisfied: greenlet!=0.4.17 in /usr/local/lib/python3.7/dist-packages (from sqlalchemy>=0.9.6->tabulator>=1.29->datapackage) (1.1.2)\n",
            "Requirement already satisfied: zipp>=0.5 in /usr/local/lib/python3.7/dist-packages (from importlib-metadata->sqlalchemy>=0.9.6->tabulator>=1.29->datapackage) (3.6.0)\n",
            "Requirement already satisfied: typing-extensions>=3.6.4 in /usr/local/lib/python3.7/dist-packages (from importlib-metadata->sqlalchemy>=0.9.6->tabulator>=1.29->datapackage) (3.10.0.2)\n",
            "Requirement already satisfied: pandas in /usr/local/lib/python3.7/dist-packages (1.1.5)\n",
            "Requirement already satisfied: pytz>=2017.2 in /usr/local/lib/python3.7/dist-packages (from pandas) (2018.9)\n",
            "Requirement already satisfied: python-dateutil>=2.7.3 in /usr/local/lib/python3.7/dist-packages (from pandas) (2.8.2)\n",
            "Requirement already satisfied: numpy>=1.15.4 in /usr/local/lib/python3.7/dist-packages (from pandas) (1.19.5)\n",
            "Requirement already satisfied: six>=1.5 in /usr/local/lib/python3.7/dist-packages (from python-dateutil>=2.7.3->pandas) (1.15.0)\n",
            "Requirement already satisfied: numpy in /usr/local/lib/python3.7/dist-packages (1.19.5)\n",
            "Requirement already satisfied: yahoo-finance in /usr/local/lib/python3.7/dist-packages (1.4.0)\n",
            "Requirement already satisfied: simplejson in /usr/local/lib/python3.7/dist-packages (from yahoo-finance) (3.17.6)\n",
            "Requirement already satisfied: pytz in /usr/local/lib/python3.7/dist-packages (from yahoo-finance) (2018.9)\n",
            "Requirement already satisfied: matplotlib in /usr/local/lib/python3.7/dist-packages (3.2.2)\n",
            "Requirement already satisfied: python-dateutil>=2.1 in /usr/local/lib/python3.7/dist-packages (from matplotlib) (2.8.2)\n",
            "Requirement already satisfied: kiwisolver>=1.0.1 in /usr/local/lib/python3.7/dist-packages (from matplotlib) (1.3.2)\n",
            "Requirement already satisfied: numpy>=1.11 in /usr/local/lib/python3.7/dist-packages (from matplotlib) (1.19.5)\n",
            "Requirement already satisfied: cycler>=0.10 in /usr/local/lib/python3.7/dist-packages (from matplotlib) (0.11.0)\n",
            "Requirement already satisfied: pyparsing!=2.0.4,!=2.1.2,!=2.1.6,>=2.0.1 in /usr/local/lib/python3.7/dist-packages (from matplotlib) (3.0.6)\n",
            "Requirement already satisfied: six>=1.5 in /usr/local/lib/python3.7/dist-packages (from python-dateutil>=2.1->matplotlib) (1.15.0)\n",
            "Collecting yfinance\n",
            "  Downloading yfinance-0.1.67-py2.py3-none-any.whl (25 kB)\n",
            "Collecting lxml>=4.5.1\n",
            "  Downloading lxml-4.6.4-cp37-cp37m-manylinux_2_17_x86_64.manylinux2014_x86_64.manylinux_2_24_x86_64.whl (6.3 MB)\n",
            "\u001b[K     |████████████████████████████████| 6.3 MB 7.1 MB/s \n",
            "\u001b[?25hRequirement already satisfied: pandas>=0.24 in /usr/local/lib/python3.7/dist-packages (from yfinance) (1.1.5)\n",
            "Requirement already satisfied: requests>=2.20 in /usr/local/lib/python3.7/dist-packages (from yfinance) (2.23.0)\n",
            "Requirement already satisfied: numpy>=1.15 in /usr/local/lib/python3.7/dist-packages (from yfinance) (1.19.5)\n",
            "Requirement already satisfied: multitasking>=0.0.7 in /usr/local/lib/python3.7/dist-packages (from yfinance) (0.0.10)\n",
            "Requirement already satisfied: pytz>=2017.2 in /usr/local/lib/python3.7/dist-packages (from pandas>=0.24->yfinance) (2018.9)\n",
            "Requirement already satisfied: python-dateutil>=2.7.3 in /usr/local/lib/python3.7/dist-packages (from pandas>=0.24->yfinance) (2.8.2)\n",
            "Requirement already satisfied: six>=1.5 in /usr/local/lib/python3.7/dist-packages (from python-dateutil>=2.7.3->pandas>=0.24->yfinance) (1.15.0)\n",
            "Requirement already satisfied: idna<3,>=2.5 in /usr/local/lib/python3.7/dist-packages (from requests>=2.20->yfinance) (2.10)\n",
            "Requirement already satisfied: certifi>=2017.4.17 in /usr/local/lib/python3.7/dist-packages (from requests>=2.20->yfinance) (2021.10.8)\n",
            "Requirement already satisfied: urllib3!=1.25.0,!=1.25.1,<1.26,>=1.21.1 in /usr/local/lib/python3.7/dist-packages (from requests>=2.20->yfinance) (1.25.11)\n",
            "Requirement already satisfied: chardet<4,>=3.0.2 in /usr/local/lib/python3.7/dist-packages (from requests>=2.20->yfinance) (3.0.4)\n",
            "Installing collected packages: lxml, yfinance\n",
            "  Attempting uninstall: lxml\n",
            "    Found existing installation: lxml 4.2.6\n",
            "    Uninstalling lxml-4.2.6:\n",
            "      Successfully uninstalled lxml-4.2.6\n",
            "Successfully installed lxml-4.6.4 yfinance-0.1.67\n"
          ]
        }
      ]
    },
    {
      "cell_type": "code",
      "metadata": {
        "id": "pBO-NDWsJlyW"
      },
      "source": [
        "import pandas as pd\n",
        "import datetime\n",
        "import numpy as np\n",
        "import matplotlib.pyplot as plt\n",
        "from pandas.plotting import scatter_matrix\n",
        "import yfinance as yf\n",
        "from pandas_datareader.data import DataReader"
      ],
      "execution_count": null,
      "outputs": []
    },
    {
      "cell_type": "code",
      "metadata": {
        "colab": {
          "base_uri": "https://localhost:8080/"
        },
        "id": "Fhyo_PFzJl5h",
        "outputId": "e86118c5-50e0-4c2e-b9d1-ca44d863c22f"
      },
      "source": [
        "startDate = '2021-11-01'\n",
        "endDate = '2021-11-24'\n",
        "\n",
        "stocks = ['TSLA','AAPL','MSFT','GOOG','AMZN','FB','NVDA','TCEHY','V','HD']\n",
        "names = [Tesla,Apple,Microsoft,Google,Amazon,Meta,Nvidia,Tencent,Visa,HomeDepot]\n",
        "\n",
        "Tesla = yf.download('TSLA',startDate,endDate)\n",
        "Apple = yf.download('AAPL',startDate,endDate)\n",
        "Microsoft = yf.download('MSFT',startDate,endDate)\n",
        "Google = yf.download('GOOG',startDate,endDate)\n",
        "Amazon = yf.download('AMZN',startDate,endDate)\n",
        "Meta = yf.download('FB',startDate,endDate)\n",
        "Nvidia = yf.download('NVDA',startDate,endDate)\n",
        "Tencent = yf.download('TCEHY',startDate,endDate)\n",
        "Visa = yf.download('V',startDate,endDate)\n",
        "HomeDepot = yf.download('HD',startDate,endDate)"
      ],
      "execution_count": null,
      "outputs": [
        {
          "output_type": "stream",
          "name": "stdout",
          "text": [
            "[*********************100%***********************]  1 of 1 completed\n",
            "[*********************100%***********************]  1 of 1 completed\n",
            "[*********************100%***********************]  1 of 1 completed\n",
            "[*********************100%***********************]  1 of 1 completed\n",
            "[*********************100%***********************]  1 of 1 completed\n",
            "[*********************100%***********************]  1 of 1 completed\n",
            "[*********************100%***********************]  1 of 1 completed\n",
            "[*********************100%***********************]  1 of 1 completed\n",
            "[*********************100%***********************]  1 of 1 completed\n",
            "[*********************100%***********************]  1 of 1 completed\n"
          ]
        }
      ]
    },
    {
      "cell_type": "code",
      "metadata": {
        "colab": {
          "base_uri": "https://localhost:8080/"
        },
        "id": "22b2Weq7JmAO",
        "outputId": "3548a1b0-d591-465f-d8c8-926e4527c2a5"
      },
      "source": [
        "TeslaADG = (-1*np.mean((Tesla['Open']-Tesla['Close'])/Tesla['Close'])*100,'Tesla')\n",
        "AppleADG = (-1*np.mean((Apple['Open']-Apple['Close'])/Apple['Close'])*100,'Apple')\n",
        "MicrosoftADG = (-1*np.mean((Microsoft['Open']-Microsoft['Close'])/Microsoft['Close'])*100,'Microsoft')\n",
        "GoogleADG = (-1*np.mean((Google['Open']-Google['Close'])/Google['Close'])*100,'Google')\n",
        "AmazonADG = (-1*np.mean((Amazon['Open']-Amazon['Close'])/Amazon['Close'])*100,'Amazon')\n",
        "MetaADG = (-1*np.mean((Meta['Open']-Meta['Close'])/Meta['Close'])*100,'Meta')\n",
        "NvidiaADG = (-1*np.mean((Nvidia['Open']-Nvidia['Close'])/Nvidia['Close'])*100,'Nvidia')\n",
        "TencentADG = (-1*np.mean((Tencent['Open']-Tencent['Close'])/Tencent['Close'])*100,'Tencent')\n",
        "VisaADG = (-1*np.mean((Visa['Open']-Visa['Close'])/Visa['Close'])*100,'Visa')\n",
        "HomeDepotADG = (-1*np.mean((HomeDepot['Open']-HomeDepot['Close'])/HomeDepot['Close'])*100,'HomeDepot')\n",
        "\n",
        "print('Tesla:', TeslaADG)\n",
        "print('Apple:', AppleADG)\n",
        "print('Microsoft:', MicrosoftADG)\n",
        "print('Google', GoogleADG)\n",
        "print('Amazon:', AmazonADG)\n",
        "print('Meta:', MetaADG)\n",
        "print('Nvidia:', NvidiaADG)\n",
        "print('Tencent:', TencentADG)\n",
        "print('Visa:', VisaADG)\n",
        "print('HomeDepot:', HomeDepotADG)"
      ],
      "execution_count": null,
      "outputs": [
        {
          "output_type": "stream",
          "name": "stdout",
          "text": [
            "Tesla: (-0.07155395775007872, 'Tesla')\n",
            "Apple: (0.33707636319742246, 'Apple')\n",
            "Microsoft: (0.04536416848436963, 'Microsoft')\n",
            "Google (-0.25732144262188894, 'Google')\n",
            "Amazon: (0.16350037771849296, 'Amazon')\n",
            "Meta: (-0.1442611859761672, 'Meta')\n",
            "Nvidia: (-0.02619697371609154, 'Nvidia')\n",
            "Tencent: (-0.18497725829124026, 'Tencent')\n",
            "Visa: (-0.47782248223597124, 'Visa')\n",
            "HomeDepot: (0.16804405832896982, 'HomeDepot')\n"
          ]
        }
      ]
    },
    {
      "cell_type": "code",
      "metadata": {
        "colab": {
          "base_uri": "https://localhost:8080/"
        },
        "id": "PEB4L4VZJmFf",
        "outputId": "39d0a0e2-5598-4b5d-a237-7d6dd30e15c0"
      },
      "source": [
        "DailyAverageArray = ([TeslaADG,AppleADG,MicrosoftADG,GoogleADG,AmazonADG,MetaADG,NvidiaADG,TencentADG,VisaADG,HomeDepotADG])\n",
        "DailyAverageArray.sort()\n",
        "print(DailyAverageArray)"
      ],
      "execution_count": null,
      "outputs": [
        {
          "output_type": "stream",
          "name": "stdout",
          "text": [
            "[(-0.47782248223597124, 'Visa'), (-0.25732144262188894, 'Google'), (-0.18497725829124026, 'Tencent'), (-0.1442611859761672, 'Meta'), (-0.07155395775007872, 'Tesla'), (-0.02619697371609154, 'Nvidia'), (0.04536416848436963, 'Microsoft'), (0.16350037771849296, 'Amazon'), (0.16804405832896982, 'HomeDepot'), (0.33707636319742246, 'Apple')]\n"
          ]
        }
      ]
    }
  ]
}